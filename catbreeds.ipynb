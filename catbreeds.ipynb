{
 "nbformat": 4,
 "nbformat_minor": 0,
 "metadata": {
  "colab": {
   "name": "CatBreeds.ipynb",
   "provenance": [],
   "collapsed_sections": []
  },
  "kernelspec": {
   "name": "python3",
   "display_name": "Python 3"
  },
  "language_info": {
   "name": "python"
  }
 },
 "cells": [
  {
   "cell_type": "code",
   "source": [
    "import timm as timm\n",
    "import torch as torch\n",
    "!pip install timm"
   ],
   "metadata": {
    "colab": {
     "base_uri": "https://localhost:8080/"
    },
    "id": "TGGXdg_TNDFT",
    "outputId": "598a1f90-53d5-48a5-a8a0-e62516ac3b56",
    "pycharm": {
     "name": "#%%\n"
    }
   },
   "execution_count": 1,
   "outputs": [
    {
     "name": "stdout",
     "output_type": "stream",
     "text": [
      "Requirement already satisfied: timm in ./venv/lib/python3.8/site-packages (0.5.4)\r\n",
      "Requirement already satisfied: torch>=1.4 in ./venv/lib/python3.8/site-packages (from timm) (1.11.0)\r\n",
      "Requirement already satisfied: torchvision in ./venv/lib/python3.8/site-packages (from timm) (0.12.0)\r\n",
      "Requirement already satisfied: typing-extensions in ./venv/lib/python3.8/site-packages (from torch>=1.4->timm) (4.2.0)\r\n",
      "Requirement already satisfied: numpy in ./venv/lib/python3.8/site-packages (from torchvision->timm) (1.22.4)\r\n",
      "Requirement already satisfied: requests in ./venv/lib/python3.8/site-packages (from torchvision->timm) (2.27.1)\r\n",
      "Requirement already satisfied: pillow!=8.3.*,>=5.3.0 in ./venv/lib/python3.8/site-packages (from torchvision->timm) (9.1.1)\r\n",
      "Requirement already satisfied: charset-normalizer~=2.0.0 in ./venv/lib/python3.8/site-packages (from requests->torchvision->timm) (2.0.12)\r\n",
      "Requirement already satisfied: urllib3<1.27,>=1.21.1 in ./venv/lib/python3.8/site-packages (from requests->torchvision->timm) (1.26.9)\r\n",
      "Requirement already satisfied: idna<4,>=2.5 in ./venv/lib/python3.8/site-packages (from requests->torchvision->timm) (3.3)\r\n",
      "Requirement already satisfied: certifi>=2017.4.17 in ./venv/lib/python3.8/site-packages (from requests->torchvision->timm) (2022.5.18.1)\r\n",
      "\u001B[33mWARNING: You are using pip version 21.3.1; however, version 22.1.1 is available.\r\n",
      "You should consider upgrading via the '/home/cailen/PycharmProjects/pythonProject/venv/bin/python -m pip install --upgrade pip' command.\u001B[0m\r\n"
     ]
    }
   ]
  },
  {
   "cell_type": "code",
   "source": [
    "!pip install -q kaggle"
   ],
   "metadata": {
    "id": "RXXFJ4Q3uxRF",
    "pycharm": {
     "name": "#%%\n"
    }
   },
   "execution_count": 2,
   "outputs": [
    {
     "name": "stdout",
     "output_type": "stream",
     "text": [
      "\u001B[33mWARNING: You are using pip version 21.3.1; however, version 22.1.1 is available.\r\n",
      "You should consider upgrading via the '/home/cailen/PycharmProjects/pythonProject/venv/bin/python -m pip install --upgrade pip' command.\u001B[0m\r\n"
     ]
    }
   ]
  },
  {
   "cell_type": "code",
   "source": [
    "! mkdir ~ /.kaggle"
   ],
   "metadata": {
    "id": "rDrsAxZbvfiy",
    "pycharm": {
     "name": "#%%\n"
    }
   },
   "execution_count": 3,
   "outputs": [
    {
     "name": "stdout",
     "output_type": "stream",
     "text": [
      "mkdir: cannot create directory ‘/home/cailen/.kaggle’: File exists\r\n"
     ]
    }
   ]
  },
  {
   "cell_type": "code",
   "source": [
    "! cp kaggle.json ~ /.kaggle /"
   ],
   "metadata": {
    "id": "WHeE-SbNwXD-",
    "pycharm": {
     "name": "#%%\n"
    }
   },
   "execution_count": 4,
   "outputs": []
  },
  {
   "cell_type": "code",
   "source": [
    "! chmod 600 ~ /.kaggle / kaggle.json"
   ],
   "metadata": {
    "id": "qZgRnZm-waEV",
    "pycharm": {
     "name": "#%%\n"
    }
   },
   "execution_count": 5,
   "outputs": []
  },
  {
   "cell_type": "code",
   "source": [
    "!kaggle datasets download -d zippyz / cats- and -dogs-breeds-classification-oxford-dataset"
   ],
   "metadata": {
    "id": "xaxQo72tvjAY",
    "pycharm": {
     "name": "#%%\n"
    }
   },
   "execution_count": 6,
   "outputs": [
    {
     "name": "stdout",
     "output_type": "stream",
     "text": [
      "cats-and-dogs-breeds-classification-oxford-dataset.zip: Skipping, found more recently modified local copy (use --force to force download)\r\n"
     ]
    }
   ]
  },
  {
   "cell_type": "code",
   "source": [
    "!unzip cats- and -dogs-breeds-classification-oxford-dataset.zip -d./ dataset"
   ],
   "metadata": {
    "id": "zPPwbjpyvRWZ",
    "pycharm": {
     "name": "#%%\n"
    }
   },
   "execution_count": 7,
   "outputs": [
    {
     "name": "stdout",
     "output_type": "stream",
     "text": [
      "Archive:  cats-and-dogs-breeds-classification-oxford-dataset.zip\r\n",
      "replace ./dataset/annotations/annotations/._trimaps? [y]es, [n]o, [A]ll, [N]one, [r]ename: ^C\r\n"
     ]
    }
   ]
  },
  {
   "cell_type": "code",
   "source": [
    "import torch\n",
    "import torchvision\n",
    "import torchvision.transforms as transforms\n",
    "import glob\n",
    "from torch.utils.data import DataLoader, Dataset\n",
    "from PIL import Image\n",
    "import numpy as np\n",
    "import os\n",
    "from sklearn.model_selection import train_test_split"
   ],
   "metadata": {
    "id": "LYUpxHvKvZ9G",
    "pycharm": {
     "name": "#%%\n"
    }
   },
   "execution_count": 1,
   "outputs": []
  },
  {
   "cell_type": "markdown",
   "source": [
    "**Data Preparation**"
   ],
   "metadata": {
    "id": "rtmOlf72Nfgc",
    "pycharm": {
     "name": "#%% md\n"
    }
   }
  },
  {
   "cell_type": "code",
   "source": [
    "read_for = open(\"./dataset/annotations/annotations/list.txt\")\n",
    "sample_files = []\n",
    "class_decode = {}\n",
    "sample_labels = []\n",
    "for txt_line in read_for:\n",
    "    if txt_line[0] == '#':\n",
    "        continue\n",
    "    file_name, clsaa_id, cat_dog_id, sub_class_id = txt_line.split(' ')\n",
    "    if cat_dog_id == '1':\n",
    "        sample_files.append(os.path.join(\"./dataset/images/images/\", file_name + '.jpg'))\n",
    "        sample_labels.append(sub_class_id)\n",
    "        class_decode[int(sub_class_id.strip(\"\\n\"))] = file_name.split(\"_\")[0]\n",
    "read_for.close()\n",
    "sample_labels = [int(elem.strip(\"\\n\")) for elem in sample_labels]"
   ],
   "metadata": {
    "id": "3AMVJ2BQ-aAu",
    "pycharm": {
     "name": "#%%\n"
    }
   },
   "execution_count": 2,
   "outputs": []
  },
  {
   "cell_type": "code",
   "source": [
    "class_decode"
   ],
   "metadata": {
    "colab": {
     "base_uri": "https://localhost:8080/"
    },
    "id": "74hR1XbuIv2S",
    "outputId": "2b12d7f4-cc2c-4e4f-f400-41befec2ba61",
    "pycharm": {
     "name": "#%%\n"
    }
   },
   "execution_count": 3,
   "outputs": [
    {
     "data": {
      "text/plain": "{1: 'Abyssinian',\n 2: 'Bengal',\n 3: 'Birman',\n 4: 'Bombay',\n 5: 'British',\n 6: 'Egyptian',\n 7: 'Maine',\n 8: 'Persian',\n 9: 'Ragdoll',\n 10: 'Russian',\n 11: 'Siamese',\n 12: 'Sphynx'}"
     },
     "execution_count": 3,
     "metadata": {},
     "output_type": "execute_result"
    }
   ]
  },
  {
   "cell_type": "code",
   "source": [
    "use_cuda = torch.cuda.is_available()\n",
    "device = torch.device(\"cuda:0\" if use_cuda else \"cpu\")"
   ],
   "metadata": {
    "id": "KuAVz9dFeP-8",
    "pycharm": {
     "name": "#%%\n"
    }
   },
   "execution_count": 4,
   "outputs": []
  },
  {
   "cell_type": "code",
   "source": [
    "class MyImageDataset(Dataset):\n",
    "\n",
    "    def __init__(self, labels, list_IDs, transforms):\n",
    "        self.labels = labels\n",
    "        self.list_IDs = list_IDs\n",
    "        self.transforms = transforms\n",
    "\n",
    "    def __len__(self):\n",
    "        return len(self.labels)\n",
    "\n",
    "    def __getitem__(self, i):\n",
    "        img = Image.open(self.labels[i])\n",
    "        img = img.convert('RGB')\n",
    "        img = self.transforms(img)\n",
    "        y = self.list_IDs[i]\n",
    "        return img, y"
   ],
   "metadata": {
    "id": "B-uFDGxq-Yt_",
    "pycharm": {
     "name": "#%%\n"
    }
   },
   "execution_count": 5,
   "outputs": []
  },
  {
   "cell_type": "code",
   "source": [
    "def show_batch(dataloader, rows, columns):\n",
    "    data = iter(dataloader)\n",
    "    fig = plt.figure(figsize=(15, 12))\n",
    "\n",
    "    imgs, _ = data.next()\n",
    "\n",
    "    for i in range(rows * columns):\n",
    "        npimg = imgs[i].numpy()\n",
    "        fig.add_subplot(rows, columns, i + 1)\n",
    "        plt.imshow(np.transpose(npimg, (1, 2, 0)))\n",
    "        plt.axis('off')\n",
    "    plt.show()"
   ],
   "metadata": {
    "id": "HcXsxxKGwEzp",
    "pycharm": {
     "name": "#%%\n"
    }
   },
   "execution_count": 6,
   "outputs": []
  },
  {
   "cell_type": "code",
   "source": [
    "size = (224, 224)\n",
    "val_transform=transforms.Compose([\n",
    "                              transforms.Resize(size),\n",
    "                              transforms.ToTensor(),\n",
    "                              # transforms.Normalize([0.485, 0.456, 0.406], [0.229, 0.224, 0.225])\n",
    "                              ])\n",
    "\n",
    "# transform = val_transform\n",
    "\n",
    "transform = transforms.Compose([\n",
    "    transforms.RandomHorizontalFlip(0.3),\n",
    "    transforms.RandomAffine(30, (0.2, 0.2), (0.15, 0.15)),\n",
    "    transforms.RandomPerspective(distortion_scale=0.4),\n",
    "    # transforms.RandomInvert(0.3),\n",
    "    transforms.Resize(size),\n",
    "    # transforms.ColorJitter(brightness=0.3, contrast=0.3, saturation=0.4, hue=0.1),\n",
    "    transforms.ToTensor()\n",
    "])\n",
    "\n",
    "# sample_ds = MyImageDataset(sample_files, sample_labels, transform)\n",
    "# sample_dl = DataLoader(sample_ds,batch_size=8) # , shuffle=True\n",
    "\n",
    "# show_batch(sample_dl, 2, 4)"
   ],
   "metadata": {
    "colab": {
     "base_uri": "https://localhost:8080/",
     "height": 569
    },
    "id": "_g_vl0AawJpR",
    "outputId": "5cae76fc-2151-490e-8fbc-c1b04fa90c3c",
    "pycharm": {
     "name": "#%%\n"
    }
   },
   "execution_count": 73,
   "outputs": []
  },
  {
   "cell_type": "code",
   "source": [
    "x_train, x_test, y_train, y_test = train_test_split(sample_files, sample_labels, random_state=42)\n",
    "# CUDA for PyTorch\n",
    "use_cuda = torch.cuda.is_available()\n",
    "device = torch.device(\"cuda:0\" if use_cuda else \"cpu\")\n",
    "# device = \"cpu\"\n",
    "# torch.backends.cudnn.benchmark = True\n",
    "\n",
    "# Parameters\n",
    "params = {'batch_size': 32,\n",
    "          'shuffle': True,\n",
    "          'num_workers': 2}"
   ],
   "metadata": {
    "id": "-MnToG2PyV5Z",
    "pycharm": {
     "name": "#%%\n"
    }
   },
   "execution_count": 74,
   "outputs": []
  },
  {
   "cell_type": "code",
   "source": [
    "train_set = MyImageDataset(x_train, y_train, transform)\n",
    "train_gen = torch.utils.data.DataLoader(train_set, **params)\n",
    "\n",
    "val_set = MyImageDataset(x_test, y_test, val_transform)\n",
    "val_gen = torch.utils.data.DataLoader(val_set, **params)"
   ],
   "metadata": {
    "id": "NjuC99YePQn7",
    "pycharm": {
     "name": "#%%\n"
    }
   },
   "execution_count": 75,
   "outputs": []
  },
  {
   "cell_type": "markdown",
   "source": [
    "**Model learning**"
   ],
   "metadata": {
    "id": "IhDcWLU0Nlyc",
    "pycharm": {
     "name": "#%% md\n"
    }
   }
  },
  {
   "cell_type": "code",
   "source": [
    "!pip install timm"
   ],
   "metadata": {
    "colab": {
     "base_uri": "https://localhost:8080/"
    },
    "id": "R-rYvf4N7_Mo",
    "outputId": "9074afac-4979-4d7d-b214-5896a22b4af3",
    "pycharm": {
     "name": "#%%\n"
    }
   },
   "execution_count": 28,
   "outputs": [
    {
     "name": "stdout",
     "output_type": "stream",
     "text": [
      "Requirement already satisfied: timm in ./venv/lib/python3.8/site-packages (0.5.4)\r\n",
      "Requirement already satisfied: torchvision in ./venv/lib/python3.8/site-packages (from timm) (0.12.0)\r\n",
      "Requirement already satisfied: torch>=1.4 in ./venv/lib/python3.8/site-packages (from timm) (1.11.0)\r\n",
      "Requirement already satisfied: typing-extensions in ./venv/lib/python3.8/site-packages (from torch>=1.4->timm) (4.2.0)\r\n",
      "Requirement already satisfied: pillow!=8.3.*,>=5.3.0 in ./venv/lib/python3.8/site-packages (from torchvision->timm) (9.1.1)\r\n",
      "Requirement already satisfied: numpy in ./venv/lib/python3.8/site-packages (from torchvision->timm) (1.22.4)\r\n",
      "Requirement already satisfied: requests in ./venv/lib/python3.8/site-packages (from torchvision->timm) (2.27.1)\r\n",
      "Requirement already satisfied: certifi>=2017.4.17 in ./venv/lib/python3.8/site-packages (from requests->torchvision->timm) (2022.5.18.1)\r\n",
      "Requirement already satisfied: idna<4,>=2.5 in ./venv/lib/python3.8/site-packages (from requests->torchvision->timm) (3.3)\r\n",
      "Requirement already satisfied: charset-normalizer~=2.0.0 in ./venv/lib/python3.8/site-packages (from requests->torchvision->timm) (2.0.12)\r\n",
      "Requirement already satisfied: urllib3<1.27,>=1.21.1 in ./venv/lib/python3.8/site-packages (from requests->torchvision->timm) (1.26.9)\r\n"
     ]
    }
   ]
  },
  {
   "cell_type": "code",
   "source": [
    "import timm\n",
    "from tqdm import tqdm\n",
    "from torchvision.models import vgg19\n",
    "\n",
    "model = torch.nn.Sequential(*(list(timm.create_model('efficientnet_b7', pretrained=True, num_classes=1000).children())[:-1]))\n",
    "# model = vgg19(pretrained=True).classifier[:-1]"
   ],
   "metadata": {
    "colab": {
     "base_uri": "https://localhost:8080/"
    },
    "id": "q66gUYRVOmaQ",
    "outputId": "85feb645-59f1-4922-fd2d-3a7c371943d6",
    "pycharm": {
     "name": "#%%\n"
    }
   },
   "execution_count": 102,
   "outputs": [
    {
     "name": "stderr",
     "output_type": "stream",
     "text": [
      "No pretrained weights exist for this model. Using random initialization.\n"
     ]
    }
   ]
  },
  {
   "cell_type": "code",
   "source": [
    "def extract_features(model, max_epochs=1):\n",
    "    train_f = []\n",
    "    train_lbl = []\n",
    "    val_f = []\n",
    "    val_lbl = []\n",
    "    with torch.no_grad():\n",
    "        for epoch in range(max_epochs):\n",
    "            #   # Training\n",
    "            for local_batch, local_labels in tqdm(train_gen):\n",
    "                #     # Transfer to GPU\n",
    "                #     # local_batch, local_labels = local_batch.to(device), local_labels.to(device)\n",
    "\n",
    "                # Model computations\n",
    "                # print(model.extract_features(local_batch))\n",
    "                train_f.append(model(local_batch))\n",
    "                train_lbl.append(local_labels)\n",
    "\n",
    "                # Validation\n",
    "            for local_batch, local_labels in tqdm(val_gen):\n",
    "                # Transfer to GPU\n",
    "                # local_batch, local_labels = local_batch.to(device), local_labels.to(device)\n",
    "\n",
    "                # Model computations\n",
    "                val_f.append(model(local_batch))\n",
    "                val_lbl.append(local_labels)\n",
    "\n",
    "    # train_f = np.vstack(train_f)\n",
    "    # train_lbl = np.vstack(train_lbl)\n",
    "    # val_f = np.vstack(val_f)\n",
    "    # val_lbl = np.vstack(val_lbl)\n",
    "    return [train_f, train_lbl], [val_f, val_lbl]"
   ],
   "metadata": {
    "id": "Lbyi1ZWyOwXF",
    "pycharm": {
     "name": "#%%\n"
    }
   },
   "execution_count": 94,
   "outputs": []
  },
  {
   "cell_type": "code",
   "source": [
    "tr, v = extract_features(model, max_epochs=1)"
   ],
   "metadata": {
    "colab": {
     "base_uri": "https://localhost:8080/",
     "height": 342
    },
    "id": "rSHvgK1gRZzp",
    "outputId": "58c03341-130a-4862-b800-a2d642c5f33c",
    "pycharm": {
     "name": "#%%\n"
    }
   },
   "execution_count": 95,
   "outputs": [
    {
     "name": "stderr",
     "output_type": "stream",
     "text": [
      "100%|██████████| 56/56 [03:28<00:00,  3.73s/it]\n",
      "100%|██████████| 19/19 [01:18<00:00,  4.12s/it]\n"
     ]
    }
   ]
  },
  {
   "cell_type": "code",
   "source": [
    "train_f = np.vstack([elem.numpy() for elem in tr[0][:-1]])\n",
    "train_l = np.hstack([elem.numpy() for elem in tr[1][:-1]])\n",
    "val_f = np.vstack([elem.numpy() for elem in v[0][:-1]])\n",
    "val_l = np.hstack([elem.numpy() for elem in v[1][:-1]])"
   ],
   "metadata": {
    "id": "WeWYIHeZRlMh",
    "pycharm": {
     "name": "#%%\n"
    }
   },
   "execution_count": 96,
   "outputs": []
  },
  {
   "cell_type": "code",
   "execution_count": 97,
   "outputs": [
    {
     "data": {
      "text/plain": "array([ 8,  5, 10,  7,  4,  7, 11,  9,  2,  8,  3,  5, 11,  3, 10,  5,  7,\n       10,  2,  6,  1, 10,  2,  9,  1,  2,  5,  1, 10,  3, 12, 10,  9,  4,\n       12,  9, 12,  3,  9,  7,  9,  4,  6, 12,  4,  6,  8,  7,  7,  5,  9,\n        9,  3,  7,  6,  2,  1,  7,  8, 11,  2,  8, 11,  8,  6,  9,  1,  1,\n        6, 11,  9,  2,  5,  5,  2, 11, 10,  7,  1,  6,  1,  6,  9, 11,  4,\n        2, 11, 10,  2,  6,  3,  7, 12,  1, 12,  8,  6,  6,  9, 11,  8, 12,\n        3, 10, 11,  1,  3,  3,  2,  1,  8,  5, 10, 11,  5,  1,  1,  8, 10,\n        4, 10, 10,  4,  6,  6,  1,  5,  7,  9,  7, 11, 11,  5,  9,  7,  5,\n        3,  5,  5,  1,  8,  7,  4,  8,  2,  8,  5,  8,  9,  2,  9, 10,  5,\n        9, 10,  5,  9,  9,  4,  7,  8,  1,  1,  4,  6,  8,  4,  1,  7, 11,\n       10,  2,  7,  8,  5, 10, 12, 12,  6,  6,  7,  1, 10,  8, 12, 11,  3,\n        2,  8, 10, 11, 11,  9,  1, 11,  2,  3, 10,  6,  6,  5,  7, 11,  6,\n        6,  3,  9,  9,  6,  9,  7,  4,  1,  2,  2, 11,  6, 11,  8, 12,  3,\n       10,  3,  5,  5,  6,  5,  9, 11,  7,  8,  1,  7,  2, 11,  8,  6, 11,\n        7,  4,  7,  9, 11,  3,  9,  3,  6,  2,  6, 12,  9,  5,  3, 10, 12,\n        9,  1,  7,  9,  9,  7, 12, 11, 12,  2, 10,  3, 10,  1,  9,  8,  6,\n        2,  5, 12,  6, 12,  3, 10, 12,  8,  2,  6,  3,  7, 12,  6,  9, 10,\n        5, 12,  8,  9,  4, 10,  6,  9, 11,  1,  7, 11,  4,  6,  3,  1,  6,\n        2,  3,  1,  7,  1,  2,  6,  9,  2, 12,  9,  1,  6,  6, 10,  6,  4,\n        3, 11,  1, 10,  5,  2,  5,  6,  1,  2,  1,  6,  8, 10,  9,  6,  1,\n        7,  9,  6, 12,  6,  4,  4,  6, 10,  1,  8,  3,  8,  7, 11,  1,  2,\n        9, 10,  3,  1,  4, 11,  6,  1,  1,  7,  8, 12,  2,  7, 12,  5,  5,\n        2, 10,  2,  5,  8,  2,  5,  6,  6,  8,  9,  5,  2, 11,  1,  8,  2,\n        2, 12,  8, 12,  1,  9,  4,  9,  1,  7,  4,  4, 10, 11,  1,  9,  3,\n        8,  9,  9,  4,  8,  2,  5,  4,  8, 12,  9,  5,  1,  2,  1,  5,  8,\n        7, 11,  2,  9,  2, 11,  9, 11,  4,  2, 11,  7, 11,  7, 12,  7,  7,\n       11,  5, 10,  2,  7,  2,  6,  4,  6,  7,  6,  1,  4, 12, 11,  6, 10,\n        1,  4,  8,  4,  4,  8, 10,  5,  3,  6,  8,  2, 11,  5,  1,  8, 11,\n       10,  7,  6,  1,  6,  5, 10,  9,  7,  3,  2,  7, 10,  1,  6, 12,  3,\n        9, 11,  1,  6, 12,  6,  5, 10,  1,  8, 12, 11,  8,  3,  3,  8, 10,\n        4,  7,  5, 12,  5,  2,  5, 11,  6,  6,  7,  4, 10, 10, 10,  4,  1,\n        1,  8,  1,  1, 12,  1,  5,  2,  3,  1,  3,  4,  5, 11,  3,  3,  4,\n        1,  3, 12,  2,  7, 11,  7, 12,  7,  6,  7,  3,  5, 12,  1,  7,  9,\n        3, 10,  2, 10,  7, 12,  3,  5,  7, 12,  3,  9, 10, 10, 12])"
     },
     "execution_count": 97,
     "metadata": {},
     "output_type": "execute_result"
    }
   ],
   "source": [
    "val_l"
   ],
   "metadata": {
    "collapsed": false,
    "pycharm": {
     "name": "#%%\n"
    }
   }
  },
  {
   "cell_type": "code",
   "source": [
    "from sklearn.linear_model import LogisticRegression\n",
    "\n",
    "clf = LogisticRegression(multi_class='multinomial', solver='lbfgs', random_state=42)\n",
    "clf.fit(train_f, train_l)"
   ],
   "metadata": {
    "colab": {
     "base_uri": "https://localhost:8080/"
    },
    "id": "F29-htEKYm1j",
    "outputId": "a36937f1-16d8-464f-a6e7-c1d2de59e426",
    "pycharm": {
     "name": "#%%\n"
    }
   },
   "execution_count": 98,
   "outputs": [
    {
     "ename": "ValueError",
     "evalue": "Found array with dim 4. LogisticRegression expected <= 2.",
     "output_type": "error",
     "traceback": [
      "\u001B[0;31m---------------------------------------------------------------------------\u001B[0m",
      "\u001B[0;31mValueError\u001B[0m                                Traceback (most recent call last)",
      "Input \u001B[0;32mIn [98]\u001B[0m, in \u001B[0;36m<cell line: 4>\u001B[0;34m()\u001B[0m\n\u001B[1;32m      1\u001B[0m \u001B[38;5;28;01mfrom\u001B[39;00m \u001B[38;5;21;01msklearn\u001B[39;00m\u001B[38;5;21;01m.\u001B[39;00m\u001B[38;5;21;01mlinear_model\u001B[39;00m \u001B[38;5;28;01mimport\u001B[39;00m LogisticRegression\n\u001B[1;32m      3\u001B[0m clf \u001B[38;5;241m=\u001B[39m LogisticRegression(multi_class\u001B[38;5;241m=\u001B[39m\u001B[38;5;124m'\u001B[39m\u001B[38;5;124mmultinomial\u001B[39m\u001B[38;5;124m'\u001B[39m, solver\u001B[38;5;241m=\u001B[39m\u001B[38;5;124m'\u001B[39m\u001B[38;5;124mlbfgs\u001B[39m\u001B[38;5;124m'\u001B[39m, random_state\u001B[38;5;241m=\u001B[39m\u001B[38;5;241m42\u001B[39m)\n\u001B[0;32m----> 4\u001B[0m \u001B[43mclf\u001B[49m\u001B[38;5;241;43m.\u001B[39;49m\u001B[43mfit\u001B[49m\u001B[43m(\u001B[49m\u001B[43mtrain_f\u001B[49m\u001B[43m,\u001B[49m\u001B[43m \u001B[49m\u001B[43mtrain_l\u001B[49m\u001B[43m)\u001B[49m\n",
      "File \u001B[0;32m~/PycharmProjects/pythonProject/venv/lib/python3.8/site-packages/sklearn/linear_model/_logistic.py:1138\u001B[0m, in \u001B[0;36mLogisticRegression.fit\u001B[0;34m(self, X, y, sample_weight)\u001B[0m\n\u001B[1;32m   1135\u001B[0m \u001B[38;5;28;01melse\u001B[39;00m:\n\u001B[1;32m   1136\u001B[0m     _dtype \u001B[38;5;241m=\u001B[39m [np\u001B[38;5;241m.\u001B[39mfloat64, np\u001B[38;5;241m.\u001B[39mfloat32]\n\u001B[0;32m-> 1138\u001B[0m X, y \u001B[38;5;241m=\u001B[39m \u001B[38;5;28;43mself\u001B[39;49m\u001B[38;5;241;43m.\u001B[39;49m\u001B[43m_validate_data\u001B[49m\u001B[43m(\u001B[49m\n\u001B[1;32m   1139\u001B[0m \u001B[43m    \u001B[49m\u001B[43mX\u001B[49m\u001B[43m,\u001B[49m\n\u001B[1;32m   1140\u001B[0m \u001B[43m    \u001B[49m\u001B[43my\u001B[49m\u001B[43m,\u001B[49m\n\u001B[1;32m   1141\u001B[0m \u001B[43m    \u001B[49m\u001B[43maccept_sparse\u001B[49m\u001B[38;5;241;43m=\u001B[39;49m\u001B[38;5;124;43m\"\u001B[39;49m\u001B[38;5;124;43mcsr\u001B[39;49m\u001B[38;5;124;43m\"\u001B[39;49m\u001B[43m,\u001B[49m\n\u001B[1;32m   1142\u001B[0m \u001B[43m    \u001B[49m\u001B[43mdtype\u001B[49m\u001B[38;5;241;43m=\u001B[39;49m\u001B[43m_dtype\u001B[49m\u001B[43m,\u001B[49m\n\u001B[1;32m   1143\u001B[0m \u001B[43m    \u001B[49m\u001B[43morder\u001B[49m\u001B[38;5;241;43m=\u001B[39;49m\u001B[38;5;124;43m\"\u001B[39;49m\u001B[38;5;124;43mC\u001B[39;49m\u001B[38;5;124;43m\"\u001B[39;49m\u001B[43m,\u001B[49m\n\u001B[1;32m   1144\u001B[0m \u001B[43m    \u001B[49m\u001B[43maccept_large_sparse\u001B[49m\u001B[38;5;241;43m=\u001B[39;49m\u001B[43msolver\u001B[49m\u001B[43m \u001B[49m\u001B[38;5;129;43;01mnot\u001B[39;49;00m\u001B[43m \u001B[49m\u001B[38;5;129;43;01min\u001B[39;49;00m\u001B[43m \u001B[49m\u001B[43m[\u001B[49m\u001B[38;5;124;43m\"\u001B[39;49m\u001B[38;5;124;43mliblinear\u001B[39;49m\u001B[38;5;124;43m\"\u001B[39;49m\u001B[43m,\u001B[49m\u001B[43m \u001B[49m\u001B[38;5;124;43m\"\u001B[39;49m\u001B[38;5;124;43msag\u001B[39;49m\u001B[38;5;124;43m\"\u001B[39;49m\u001B[43m,\u001B[49m\u001B[43m \u001B[49m\u001B[38;5;124;43m\"\u001B[39;49m\u001B[38;5;124;43msaga\u001B[39;49m\u001B[38;5;124;43m\"\u001B[39;49m\u001B[43m]\u001B[49m\u001B[43m,\u001B[49m\n\u001B[1;32m   1145\u001B[0m \u001B[43m\u001B[49m\u001B[43m)\u001B[49m\n\u001B[1;32m   1146\u001B[0m check_classification_targets(y)\n\u001B[1;32m   1147\u001B[0m \u001B[38;5;28mself\u001B[39m\u001B[38;5;241m.\u001B[39mclasses_ \u001B[38;5;241m=\u001B[39m np\u001B[38;5;241m.\u001B[39munique(y)\n",
      "File \u001B[0;32m~/PycharmProjects/pythonProject/venv/lib/python3.8/site-packages/sklearn/base.py:596\u001B[0m, in \u001B[0;36mBaseEstimator._validate_data\u001B[0;34m(self, X, y, reset, validate_separately, **check_params)\u001B[0m\n\u001B[1;32m    594\u001B[0m         y \u001B[38;5;241m=\u001B[39m check_array(y, input_name\u001B[38;5;241m=\u001B[39m\u001B[38;5;124m\"\u001B[39m\u001B[38;5;124my\u001B[39m\u001B[38;5;124m\"\u001B[39m, \u001B[38;5;241m*\u001B[39m\u001B[38;5;241m*\u001B[39mcheck_y_params)\n\u001B[1;32m    595\u001B[0m     \u001B[38;5;28;01melse\u001B[39;00m:\n\u001B[0;32m--> 596\u001B[0m         X, y \u001B[38;5;241m=\u001B[39m \u001B[43mcheck_X_y\u001B[49m\u001B[43m(\u001B[49m\u001B[43mX\u001B[49m\u001B[43m,\u001B[49m\u001B[43m \u001B[49m\u001B[43my\u001B[49m\u001B[43m,\u001B[49m\u001B[43m \u001B[49m\u001B[38;5;241;43m*\u001B[39;49m\u001B[38;5;241;43m*\u001B[39;49m\u001B[43mcheck_params\u001B[49m\u001B[43m)\u001B[49m\n\u001B[1;32m    597\u001B[0m     out \u001B[38;5;241m=\u001B[39m X, y\n\u001B[1;32m    599\u001B[0m \u001B[38;5;28;01mif\u001B[39;00m \u001B[38;5;129;01mnot\u001B[39;00m no_val_X \u001B[38;5;129;01mand\u001B[39;00m check_params\u001B[38;5;241m.\u001B[39mget(\u001B[38;5;124m\"\u001B[39m\u001B[38;5;124mensure_2d\u001B[39m\u001B[38;5;124m\"\u001B[39m, \u001B[38;5;28;01mTrue\u001B[39;00m):\n",
      "File \u001B[0;32m~/PycharmProjects/pythonProject/venv/lib/python3.8/site-packages/sklearn/utils/validation.py:1074\u001B[0m, in \u001B[0;36mcheck_X_y\u001B[0;34m(X, y, accept_sparse, accept_large_sparse, dtype, order, copy, force_all_finite, ensure_2d, allow_nd, multi_output, ensure_min_samples, ensure_min_features, y_numeric, estimator)\u001B[0m\n\u001B[1;32m   1069\u001B[0m         estimator_name \u001B[38;5;241m=\u001B[39m _check_estimator_name(estimator)\n\u001B[1;32m   1070\u001B[0m     \u001B[38;5;28;01mraise\u001B[39;00m \u001B[38;5;167;01mValueError\u001B[39;00m(\n\u001B[1;32m   1071\u001B[0m         \u001B[38;5;124mf\u001B[39m\u001B[38;5;124m\"\u001B[39m\u001B[38;5;132;01m{\u001B[39;00mestimator_name\u001B[38;5;132;01m}\u001B[39;00m\u001B[38;5;124m requires y to be passed, but the target y is None\u001B[39m\u001B[38;5;124m\"\u001B[39m\n\u001B[1;32m   1072\u001B[0m     )\n\u001B[0;32m-> 1074\u001B[0m X \u001B[38;5;241m=\u001B[39m \u001B[43mcheck_array\u001B[49m\u001B[43m(\u001B[49m\n\u001B[1;32m   1075\u001B[0m \u001B[43m    \u001B[49m\u001B[43mX\u001B[49m\u001B[43m,\u001B[49m\n\u001B[1;32m   1076\u001B[0m \u001B[43m    \u001B[49m\u001B[43maccept_sparse\u001B[49m\u001B[38;5;241;43m=\u001B[39;49m\u001B[43maccept_sparse\u001B[49m\u001B[43m,\u001B[49m\n\u001B[1;32m   1077\u001B[0m \u001B[43m    \u001B[49m\u001B[43maccept_large_sparse\u001B[49m\u001B[38;5;241;43m=\u001B[39;49m\u001B[43maccept_large_sparse\u001B[49m\u001B[43m,\u001B[49m\n\u001B[1;32m   1078\u001B[0m \u001B[43m    \u001B[49m\u001B[43mdtype\u001B[49m\u001B[38;5;241;43m=\u001B[39;49m\u001B[43mdtype\u001B[49m\u001B[43m,\u001B[49m\n\u001B[1;32m   1079\u001B[0m \u001B[43m    \u001B[49m\u001B[43morder\u001B[49m\u001B[38;5;241;43m=\u001B[39;49m\u001B[43morder\u001B[49m\u001B[43m,\u001B[49m\n\u001B[1;32m   1080\u001B[0m \u001B[43m    \u001B[49m\u001B[43mcopy\u001B[49m\u001B[38;5;241;43m=\u001B[39;49m\u001B[43mcopy\u001B[49m\u001B[43m,\u001B[49m\n\u001B[1;32m   1081\u001B[0m \u001B[43m    \u001B[49m\u001B[43mforce_all_finite\u001B[49m\u001B[38;5;241;43m=\u001B[39;49m\u001B[43mforce_all_finite\u001B[49m\u001B[43m,\u001B[49m\n\u001B[1;32m   1082\u001B[0m \u001B[43m    \u001B[49m\u001B[43mensure_2d\u001B[49m\u001B[38;5;241;43m=\u001B[39;49m\u001B[43mensure_2d\u001B[49m\u001B[43m,\u001B[49m\n\u001B[1;32m   1083\u001B[0m \u001B[43m    \u001B[49m\u001B[43mallow_nd\u001B[49m\u001B[38;5;241;43m=\u001B[39;49m\u001B[43mallow_nd\u001B[49m\u001B[43m,\u001B[49m\n\u001B[1;32m   1084\u001B[0m \u001B[43m    \u001B[49m\u001B[43mensure_min_samples\u001B[49m\u001B[38;5;241;43m=\u001B[39;49m\u001B[43mensure_min_samples\u001B[49m\u001B[43m,\u001B[49m\n\u001B[1;32m   1085\u001B[0m \u001B[43m    \u001B[49m\u001B[43mensure_min_features\u001B[49m\u001B[38;5;241;43m=\u001B[39;49m\u001B[43mensure_min_features\u001B[49m\u001B[43m,\u001B[49m\n\u001B[1;32m   1086\u001B[0m \u001B[43m    \u001B[49m\u001B[43mestimator\u001B[49m\u001B[38;5;241;43m=\u001B[39;49m\u001B[43mestimator\u001B[49m\u001B[43m,\u001B[49m\n\u001B[1;32m   1087\u001B[0m \u001B[43m    \u001B[49m\u001B[43minput_name\u001B[49m\u001B[38;5;241;43m=\u001B[39;49m\u001B[38;5;124;43m\"\u001B[39;49m\u001B[38;5;124;43mX\u001B[39;49m\u001B[38;5;124;43m\"\u001B[39;49m\u001B[43m,\u001B[49m\n\u001B[1;32m   1088\u001B[0m \u001B[43m\u001B[49m\u001B[43m)\u001B[49m\n\u001B[1;32m   1090\u001B[0m y \u001B[38;5;241m=\u001B[39m _check_y(y, multi_output\u001B[38;5;241m=\u001B[39mmulti_output, y_numeric\u001B[38;5;241m=\u001B[39my_numeric, estimator\u001B[38;5;241m=\u001B[39mestimator)\n\u001B[1;32m   1092\u001B[0m check_consistent_length(X, y)\n",
      "File \u001B[0;32m~/PycharmProjects/pythonProject/venv/lib/python3.8/site-packages/sklearn/utils/validation.py:893\u001B[0m, in \u001B[0;36mcheck_array\u001B[0;34m(array, accept_sparse, accept_large_sparse, dtype, order, copy, force_all_finite, ensure_2d, allow_nd, ensure_min_samples, ensure_min_features, estimator, input_name)\u001B[0m\n\u001B[1;32m    887\u001B[0m     \u001B[38;5;28;01mraise\u001B[39;00m \u001B[38;5;167;01mValueError\u001B[39;00m(\n\u001B[1;32m    888\u001B[0m         \u001B[38;5;124m\"\u001B[39m\u001B[38;5;124mdtype=\u001B[39m\u001B[38;5;124m'\u001B[39m\u001B[38;5;124mnumeric\u001B[39m\u001B[38;5;124m'\u001B[39m\u001B[38;5;124m is not compatible with arrays of bytes/strings.\u001B[39m\u001B[38;5;124m\"\u001B[39m\n\u001B[1;32m    889\u001B[0m         \u001B[38;5;124m\"\u001B[39m\u001B[38;5;124mConvert your data to numeric values explicitly instead.\u001B[39m\u001B[38;5;124m\"\u001B[39m\n\u001B[1;32m    890\u001B[0m     )\n\u001B[1;32m    892\u001B[0m \u001B[38;5;28;01mif\u001B[39;00m \u001B[38;5;129;01mnot\u001B[39;00m allow_nd \u001B[38;5;129;01mand\u001B[39;00m array\u001B[38;5;241m.\u001B[39mndim \u001B[38;5;241m>\u001B[39m\u001B[38;5;241m=\u001B[39m \u001B[38;5;241m3\u001B[39m:\n\u001B[0;32m--> 893\u001B[0m     \u001B[38;5;28;01mraise\u001B[39;00m \u001B[38;5;167;01mValueError\u001B[39;00m(\n\u001B[1;32m    894\u001B[0m         \u001B[38;5;124m\"\u001B[39m\u001B[38;5;124mFound array with dim \u001B[39m\u001B[38;5;132;01m%d\u001B[39;00m\u001B[38;5;124m. \u001B[39m\u001B[38;5;132;01m%s\u001B[39;00m\u001B[38;5;124m expected <= 2.\u001B[39m\u001B[38;5;124m\"\u001B[39m\n\u001B[1;32m    895\u001B[0m         \u001B[38;5;241m%\u001B[39m (array\u001B[38;5;241m.\u001B[39mndim, estimator_name)\n\u001B[1;32m    896\u001B[0m     )\n\u001B[1;32m    898\u001B[0m \u001B[38;5;28;01mif\u001B[39;00m force_all_finite:\n\u001B[1;32m    899\u001B[0m     _assert_all_finite(\n\u001B[1;32m    900\u001B[0m         array,\n\u001B[1;32m    901\u001B[0m         input_name\u001B[38;5;241m=\u001B[39minput_name,\n\u001B[1;32m    902\u001B[0m         estimator_name\u001B[38;5;241m=\u001B[39mestimator_name,\n\u001B[1;32m    903\u001B[0m         allow_nan\u001B[38;5;241m=\u001B[39mforce_all_finite \u001B[38;5;241m==\u001B[39m \u001B[38;5;124m\"\u001B[39m\u001B[38;5;124mallow-nan\u001B[39m\u001B[38;5;124m\"\u001B[39m,\n\u001B[1;32m    904\u001B[0m     )\n",
      "\u001B[0;31mValueError\u001B[0m: Found array with dim 4. LogisticRegression expected <= 2."
     ]
    }
   ]
  },
  {
   "cell_type": "code",
   "source": [
    "clf.score(val_f, val_l)"
   ],
   "metadata": {
    "colab": {
     "base_uri": "https://localhost:8080/"
    },
    "id": "w6V9NquvZho9",
    "outputId": "dac2d584-eafa-4179-caaa-964e73b2965c",
    "pycharm": {
     "name": "#%%\n"
    }
   },
   "execution_count": 92,
   "outputs": [
    {
     "data": {
      "text/plain": "0.8385416666666666"
     },
     "execution_count": 92,
     "metadata": {},
     "output_type": "execute_result"
    }
   ]
  },
  {
   "cell_type": "code",
   "source": [
    "from sklearn.metrics import roc_auc_score"
   ],
   "metadata": {
    "id": "0w4CwpQIaQhb",
    "pycharm": {
     "name": "#%%\n"
    }
   },
   "execution_count": 81,
   "outputs": []
  },
  {
   "cell_type": "code",
   "source": [
    "roc_auc_score(val_l, clf.predict_proba(val_f), multi_class=\"ovo\")"
   ],
   "metadata": {
    "colab": {
     "base_uri": "https://localhost:8080/"
    },
    "id": "AiCK_p2ucHCD",
    "outputId": "7e8cf3ac-ee37-456e-afb1-4c590b2da0bd",
    "pycharm": {
     "name": "#%%\n"
    }
   },
   "execution_count": 82,
   "outputs": [
    {
     "data": {
      "text/plain": "0.9876408678612406"
     },
     "execution_count": 82,
     "metadata": {},
     "output_type": "execute_result"
    }
   ]
  },
  {
   "cell_type": "code",
   "source": [
    "!pip install catboost\n",
    "from catboost import CatBoostClassifier"
   ],
   "metadata": {
    "colab": {
     "base_uri": "https://localhost:8080/"
    },
    "id": "-VZKhuStcThJ",
    "outputId": "eec69984-eb67-44b1-c58b-a93c24222dc1",
    "pycharm": {
     "name": "#%%\n"
    }
   },
   "execution_count": 85,
   "outputs": [
    {
     "name": "stdout",
     "output_type": "stream",
     "text": [
      "Requirement already satisfied: catboost in ./venv/lib/python3.8/site-packages (1.0.6)\r\n",
      "Requirement already satisfied: scipy in ./venv/lib/python3.8/site-packages (from catboost) (1.8.1)\r\n",
      "Requirement already satisfied: numpy>=1.16.0 in ./venv/lib/python3.8/site-packages (from catboost) (1.22.4)\r\n",
      "Requirement already satisfied: graphviz in ./venv/lib/python3.8/site-packages (from catboost) (0.20)\r\n",
      "Requirement already satisfied: six in ./venv/lib/python3.8/site-packages (from catboost) (1.16.0)\r\n",
      "Requirement already satisfied: plotly in ./venv/lib/python3.8/site-packages (from catboost) (5.8.0)\r\n",
      "Requirement already satisfied: pandas>=0.24.0 in ./venv/lib/python3.8/site-packages (from catboost) (1.4.2)\r\n",
      "Requirement already satisfied: matplotlib in ./venv/lib/python3.8/site-packages (from catboost) (3.5.2)\r\n",
      "Requirement already satisfied: pytz>=2020.1 in ./venv/lib/python3.8/site-packages (from pandas>=0.24.0->catboost) (2022.1)\r\n",
      "Requirement already satisfied: python-dateutil>=2.8.1 in ./venv/lib/python3.8/site-packages (from pandas>=0.24.0->catboost) (2.8.2)\r\n",
      "Requirement already satisfied: pillow>=6.2.0 in ./venv/lib/python3.8/site-packages (from matplotlib->catboost) (9.1.1)\r\n",
      "Requirement already satisfied: fonttools>=4.22.0 in ./venv/lib/python3.8/site-packages (from matplotlib->catboost) (4.33.3)\r\n",
      "Requirement already satisfied: packaging>=20.0 in ./venv/lib/python3.8/site-packages (from matplotlib->catboost) (21.3)\r\n",
      "Requirement already satisfied: cycler>=0.10 in ./venv/lib/python3.8/site-packages (from matplotlib->catboost) (0.11.0)\r\n",
      "Requirement already satisfied: kiwisolver>=1.0.1 in ./venv/lib/python3.8/site-packages (from matplotlib->catboost) (1.4.2)\r\n",
      "Requirement already satisfied: pyparsing>=2.2.1 in ./venv/lib/python3.8/site-packages (from matplotlib->catboost) (3.0.9)\r\n",
      "Requirement already satisfied: tenacity>=6.2.0 in ./venv/lib/python3.8/site-packages (from plotly->catboost) (8.0.1)\r\n"
     ]
    }
   ]
  },
  {
   "cell_type": "code",
   "source": [
    "cat = CatBoostClassifier(iterations=20)"
   ],
   "metadata": {
    "id": "DRlso1pmcsTq",
    "pycharm": {
     "name": "#%%\n"
    }
   },
   "execution_count": 86,
   "outputs": []
  },
  {
   "cell_type": "code",
   "source": [
    "cat.fit(train_f, train_l)"
   ],
   "metadata": {
    "colab": {
     "base_uri": "https://localhost:8080/"
    },
    "id": "6KpM4kLqc2i0",
    "outputId": "df2be842-0c16-4d69-fcdc-84d21e472576",
    "pycharm": {
     "name": "#%%\n"
    }
   },
   "execution_count": 87,
   "outputs": [
    {
     "name": "stdout",
     "output_type": "stream",
     "text": [
      "Learning rate set to 0.5\n",
      "0:\tlearn: 2.1066469\ttotal: 1.46s\tremaining: 27.7s\n",
      "1:\tlearn: 1.7671514\ttotal: 2.8s\tremaining: 25.2s\n",
      "2:\tlearn: 1.5427398\ttotal: 4.13s\tremaining: 23.4s\n",
      "3:\tlearn: 1.4156864\ttotal: 5.47s\tremaining: 21.9s\n",
      "4:\tlearn: 1.2935135\ttotal: 6.82s\tremaining: 20.5s\n",
      "5:\tlearn: 1.1668341\ttotal: 8.18s\tremaining: 19.1s\n",
      "6:\tlearn: 1.0683464\ttotal: 9.52s\tremaining: 17.7s\n",
      "7:\tlearn: 0.9990021\ttotal: 10.9s\tremaining: 16.4s\n",
      "8:\tlearn: 0.9544866\ttotal: 12.3s\tremaining: 15.1s\n",
      "9:\tlearn: 0.8922399\ttotal: 13.7s\tremaining: 13.7s\n",
      "10:\tlearn: 0.8322075\ttotal: 15.1s\tremaining: 12.3s\n",
      "11:\tlearn: 0.7778203\ttotal: 16.5s\tremaining: 11s\n",
      "12:\tlearn: 0.7188634\ttotal: 17.9s\tremaining: 9.66s\n",
      "13:\tlearn: 0.6749639\ttotal: 19.4s\tremaining: 8.3s\n",
      "14:\tlearn: 0.6442322\ttotal: 20.8s\tremaining: 6.94s\n",
      "15:\tlearn: 0.6206255\ttotal: 22.2s\tremaining: 5.54s\n",
      "16:\tlearn: 0.5961385\ttotal: 23.6s\tremaining: 4.16s\n",
      "17:\tlearn: 0.5523126\ttotal: 25s\tremaining: 2.78s\n",
      "18:\tlearn: 0.5200591\ttotal: 26.5s\tremaining: 1.39s\n",
      "19:\tlearn: 0.4823891\ttotal: 27.9s\tremaining: 0us\n"
     ]
    },
    {
     "data": {
      "text/plain": "<catboost.core.CatBoostClassifier at 0x7fedcb8192b0>"
     },
     "execution_count": 87,
     "metadata": {},
     "output_type": "execute_result"
    }
   ]
  },
  {
   "cell_type": "code",
   "source": [
    "roc_auc_score(val_l, cat.predict_proba(val_f), multi_class=\"ovo\")"
   ],
   "metadata": {
    "colab": {
     "base_uri": "https://localhost:8080/"
    },
    "id": "dPccF3gYc5qq",
    "outputId": "fa764c2c-a97a-4478-f6e3-10c2d182e0f4",
    "pycharm": {
     "name": "#%%\n"
    }
   },
   "execution_count": 88,
   "outputs": [
    {
     "data": {
      "text/plain": "0.9605417374099577"
     },
     "execution_count": 88,
     "metadata": {},
     "output_type": "execute_result"
    }
   ]
  },
  {
   "cell_type": "code",
   "execution_count": 89,
   "outputs": [
    {
     "data": {
      "text/plain": "0.6805555555555556"
     },
     "execution_count": 89,
     "metadata": {},
     "output_type": "execute_result"
    }
   ],
   "source": [
    "cat.score(val_f, val_l)"
   ],
   "metadata": {
    "collapsed": false,
    "pycharm": {
     "name": "#%%\n"
    }
   }
  },
  {
   "cell_type": "code",
   "execution_count": null,
   "outputs": [],
   "source": [],
   "metadata": {
    "collapsed": false,
    "pycharm": {
     "name": "#%%\n"
    }
   }
  }
 ]
}